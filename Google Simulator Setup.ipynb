{
 "cells": [
  {
   "cell_type": "markdown",
   "id": "63801368",
   "metadata": {},
   "source": [
    "# Use Google hardware to set up QVM simulator\n",
    "\n",
    "https://quantumai.google/cirq/simulate/quantum_virtual_machine\n",
    "\n",
    "* Two backends are openly available (in data): `Weber` and `Rainbow`\n",
    "* QVM = quantum virtual machine"
   ]
  },
  {
   "cell_type": "code",
   "execution_count": 2,
   "id": "1684fc30",
   "metadata": {},
   "outputs": [],
   "source": [
    "# !pip install cirq_google\n",
    "# !pip install qsimcirq\n",
    "\n",
    "import cirq\n",
    "import cirq_google\n",
    "import qsimcirq\n",
    "import matplotlib.pyplot as plt"
   ]
  },
  {
   "cell_type": "code",
   "execution_count": 11,
   "id": "505f5ae5",
   "metadata": {},
   "outputs": [],
   "source": [
    "# get the calibration values of a circuit\n",
    "processor_id = \"rainbow\"\n",
    "cal = cirq_google.engine.load_median_device_calibration(processor_id)"
   ]
  },
  {
   "cell_type": "code",
   "execution_count": 12,
   "id": "537f7b92",
   "metadata": {},
   "outputs": [],
   "source": [
    "# map the real-data to establish a virtual quantum machine\n",
    "noise_props = cirq_google.noise_properties_from_calibration(cal)\n",
    "noise_model = cirq_google.NoiseModelFromGoogleNoiseProperties(noise_props)\n",
    "simulator = qsimcirq.QSimSimulator(noise=noise_model)"
   ]
  },
  {
   "cell_type": "code",
   "execution_count": 13,
   "id": "eaade9ee",
   "metadata": {},
   "outputs": [
    {
     "data": {
      "text/plain": [
       "<qsimcirq.qsim_simulator.QSimSimulator at 0x21043ec1f50>"
      ]
     },
     "execution_count": 13,
     "metadata": {},
     "output_type": "execute_result"
    }
   ],
   "source": [
    "simulator"
   ]
  },
  {
   "cell_type": "code",
   "execution_count": 15,
   "id": "8be24a81",
   "metadata": {},
   "outputs": [],
   "source": [
    "# quantum virtual engine: maps VQM to same interface as real quantum device\n",
    "# see above: processor_id = \"rainbow\"\n",
    "device = cirq_google.engine.create_device_from_processor_id(processor_id)\n",
    "\n",
    "simulator_processor = cirq_google.engine.SimulatedLocalProcessor(\n",
    "    processor_id=processor_id,\n",
    "    sampler=simulator,\n",
    "    device=device,\n",
    "    calibrations={cal.timestamp // 1000:cal})\n",
    "\n",
    "simulator_engine = cirq_google.engine.SimulatedLocalEngine([simulator_processor])"
   ]
  },
  {
   "cell_type": "code",
   "execution_count": 17,
   "id": "6f493325",
   "metadata": {},
   "outputs": [
    {
     "data": {
      "text/plain": [
       "                  (3, 2)\n",
       "                  │\n",
       "                  │\n",
       "         (4, 1)───(4, 2)───(4, 3)\n",
       "         │        │        │\n",
       "         │        │        │\n",
       "(5, 0)───(5, 1)───(5, 2)───(5, 3)───(5, 4)\n",
       "         │        │        │        │\n",
       "         │        │        │        │\n",
       "         (6, 1)───(6, 2)───(6, 3)───(6, 4)───(6, 5)\n",
       "                  │        │        │        │\n",
       "                  │        │        │        │\n",
       "                  (7, 2)───(7, 3)───(7, 4)───(7, 5)───(7, 6)\n",
       "                           │        │        │\n",
       "                           │        │        │\n",
       "                           (8, 3)───(8, 4)───(8, 5)\n",
       "                                    │\n",
       "                                    │\n",
       "                                    (9, 4)"
      ]
     },
     "execution_count": 17,
     "metadata": {},
     "output_type": "execute_result"
    }
   ],
   "source": [
    "# print the layout of Rainbow\n",
    "simulator_engine.get_processor(processor_id).get_device()"
   ]
  }
 ],
 "metadata": {
  "kernelspec": {
   "display_name": "Python 3 (ipykernel)",
   "language": "python",
   "name": "python3"
  },
  "language_info": {
   "codemirror_mode": {
    "name": "ipython",
    "version": 3
   },
   "file_extension": ".py",
   "mimetype": "text/x-python",
   "name": "python",
   "nbconvert_exporter": "python",
   "pygments_lexer": "ipython3",
   "version": "3.11.5"
  }
 },
 "nbformat": 4,
 "nbformat_minor": 5
}
